{
 "cells": [
  {
   "cell_type": "markdown",
   "metadata": {
    "collapsed": false
   },
   "source": [
    "### Profiling: http://mortada.net/easily-profile-python-code-in-jupyter.html\n",
    "Use `%lprun -f slow_func slow_call(2, 3)` to run the profiler"
   ]
  },
  {
   "cell_type": "code",
   "execution_count": 1,
   "metadata": {
    "collapsed": false
   },
   "outputs": [
    {
     "name": "stdout",
     "output_type": "stream",
     "text": [
      "Requirement already satisfied: line-profiler in /usr/local/lib/python2.7/dist-packages\n",
      "Requirement already satisfied: IPython>=0.13 in /usr/local/lib/python2.7/dist-packages (from line-profiler)\n",
      "Requirement already satisfied: prompt-toolkit<2.0.0,>=1.0.4 in /usr/local/lib/python2.7/dist-packages (from IPython>=0.13->line-profiler)\n",
      "Requirement already satisfied: decorator in /usr/local/lib/python2.7/dist-packages (from IPython>=0.13->line-profiler)\n",
      "Requirement already satisfied: pexpect; sys_platform != \"win32\" in /usr/local/lib/python2.7/dist-packages (from IPython>=0.13->line-profiler)\n",
      "Requirement already satisfied: backports.shutil-get-terminal-size; python_version == \"2.7\" in /usr/local/lib/python2.7/dist-packages (from IPython>=0.13->line-profiler)\n",
      "Requirement already satisfied: setuptools>=18.5 in /usr/local/lib/python2.7/dist-packages (from IPython>=0.13->line-profiler)\n",
      "Requirement already satisfied: pygments in /usr/local/lib/python2.7/dist-packages (from IPython>=0.13->line-profiler)\n",
      "Requirement already satisfied: pathlib2; python_version == \"2.7\" or python_version == \"3.3\" in /usr/local/lib/python2.7/dist-packages (from IPython>=0.13->line-profiler)\n",
      "Requirement already satisfied: traitlets>=4.2 in /usr/local/lib/python2.7/dist-packages (from IPython>=0.13->line-profiler)\n",
      "Requirement already satisfied: simplegeneric>0.8 in /usr/lib/python2.7/dist-packages (from IPython>=0.13->line-profiler)\n",
      "Requirement already satisfied: pickleshare in /usr/local/lib/python2.7/dist-packages (from IPython>=0.13->line-profiler)\n",
      "Requirement already satisfied: wcwidth in /usr/local/lib/python2.7/dist-packages (from prompt-toolkit<2.0.0,>=1.0.4->IPython>=0.13->line-profiler)\n",
      "Requirement already satisfied: six>=1.9.0 in /usr/local/lib/python2.7/dist-packages (from prompt-toolkit<2.0.0,>=1.0.4->IPython>=0.13->line-profiler)\n",
      "Requirement already satisfied: ptyprocess>=0.5 in /usr/local/lib/python2.7/dist-packages (from pexpect; sys_platform != \"win32\"->IPython>=0.13->line-profiler)\n",
      "Requirement already satisfied: scandir; python_version < \"3.5\" in /usr/local/lib/python2.7/dist-packages (from pathlib2; python_version == \"2.7\" or python_version == \"3.3\"->IPython>=0.13->line-profiler)\n",
      "Requirement already satisfied: ipython-genutils in /usr/local/lib/python2.7/dist-packages (from traitlets>=4.2->IPython>=0.13->line-profiler)\n",
      "Requirement already satisfied: enum34; python_version == \"2.7\" in /usr/local/lib/python2.7/dist-packages (from traitlets>=4.2->IPython>=0.13->line-profiler)\n"
     ]
    },
    {
     "name": "stderr",
     "output_type": "stream",
     "text": [
      "You are using pip version 9.0.1, however version 18.0 is available.\n",
      "You should consider upgrading via the 'pip install --upgrade pip' command.\n"
     ]
    }
   ],
   "source": [
    "%%bash\n",
    "/usr/bin/pip install line-profiler"
   ]
  },
  {
   "cell_type": "code",
   "execution_count": 2,
   "metadata": {
    "collapsed": false
   },
   "outputs": [
   ],
   "source": [
    "%load_ext line_profiler"
   ]
  },
  {
   "cell_type": "markdown",
   "metadata": {
    "collapsed": false
   },
   "source": [
    "## The code"
   ]
  },
  {
   "cell_type": "code",
   "execution_count": 3,
   "metadata": {
    "collapsed": false
   },
   "outputs": [
   ],
   "source": [
    "from sage.all import *\n",
    "import itertools\n",
    "import random"
   ]
  },
  {
   "cell_type": "code",
   "execution_count": 15,
   "metadata": {
    "collapsed": false
   },
   "outputs": [
   ],
   "source": [
    "def gen_LP(l_full, l_priv_corr):\n",
    "    \n",
    "    p = MixedIntegerLinearProgram()\n",
    "    v = p.new_variable(real = True, nonnegative=True)\n",
    "    tot_cell_num = pow(share_dom_size, n)\n",
    "    special_cases = len(l_priv_corr)\n",
    "\n",
    "    for (i,eq) in enumerate(l_full):\n",
    "        lp_constraint = []\n",
    "        for b in range(2): \n",
    "            for x in range(tot_cell_num):\n",
    "                ind = x + (b - 1)*tot_cell_num\n",
    "                lp_constraint.append(eq[ind] * v[ind])\n",
    "        at_right = 0\n",
    "        if (i >=  special_cases):\n",
    "            at_right = 1\n",
    "        lp_function = sum(lp_constraint)\n",
    "        p.add_constraint(lp_function == at_right)\n",
    "    #we don't optimize anything here, just arbitrary    \n",
    "    #p.set_objective(v[0])  \n",
    "\n",
    "    no_solution = False\n",
    "    try:\n",
    "        p.solve()\n",
    "    except:\n",
    "        print '\\nThere is no scheme, eventually!\\n'\n",
    "        no_solution = True\n",
    "\n",
    "    if no_solution == False:    \n",
    "        solution = p.get_values()\n",
    "        solution_list = [solution[i] for i in range(2*tot_cell_num)]\n",
    "        print '\\n There is a scheme!!!!!!!!!!!! \\nThe solution is '\n",
    "        print solution_list\n",
    "\n",
    "def gen_stats(l_full, l_priv_corr, m1, m2):\n",
    "    s1 = []\n",
    "    try:\n",
    "        s1 = m1.solve_left(ones)\n",
    "    except: \n",
    "        print 'S1: There is no solution, so a scheme might exist'\n",
    "    if (len(s1) > 0):        \n",
    "        print 's1 = ',s1,' exists!'\n",
    "        # return\n",
    "\n",
    "    # test everything except for non-negativity      \n",
    "    s2 = []\n",
    "    try:\n",
    "        s2 = m2.solve_left(dbl_ones)\n",
    "    except: \n",
    "        print 'S2: There is no solution for the more complex system either! Perhaps there is a scheme..'\n",
    "    if (len(s2) > 0):        \n",
    "        print 'S2 = ',s2,' exists!'\n",
    "        # return\n",
    "\n",
    "    # test everything\n",
    "    gen_LP(l_full, l_priv_corr)\n",
    "            "
   ]
  },
  {
   "cell_type": "code",
   "execution_count": 16,
   "metadata": {
    "collapsed": false
   },
   "outputs": [
   ],
   "source": [
    "def sample_cur_AS():\n",
    "    lists = [[],[]]\n",
    "    \n",
    "    for min_term in AS:\n",
    "        for val in itertools.product(range(share_dom_size),repeat = slice_at):\n",
    "            b = random.randrange(2)\n",
    "            lists[b].append(tensor_2_vec(n, min_term, val, share_dom_size))\n",
    "\n",
    "    l = lists[0]        \n",
    "    if (len(lists[1]) > len(lists[0])):\n",
    "        l = lists[1]\n",
    "\n",
    "    m1 =  matrix(QQ, l)   \n",
    "    # test just for the partial cover condition (hope none is satisfied, ane we get a cover)\n",
    "\n",
    "    l_priv_corr = []\n",
    "    # correctness-related constrains (all but positivity)\n",
    "    for i in lists[0]:\n",
    "        l_priv_corr.append(i + lzeros)\n",
    "    for i in lists[1]:\n",
    "        l_priv_corr.append(lzeros + i)   \n",
    "\n",
    "    #privacy-related constrains (all but positivity)     \n",
    "\n",
    "    for max_term in maxterms:\n",
    "        for val in itertools.product(range(share_dom_size),repeat = len(max_term)):\n",
    "            cur = tensor_2_vec(n, max_term, val, share_dom_size)\n",
    "            minus_cur = [-i for i in cur]\n",
    "            l_priv_corr.append(cur + minus_cur)\n",
    "        \n",
    "    m2 = matrix(QQ, l_priv_corr)\n",
    "\n",
    "    # test for everything but non-negativity\n",
    "\n",
    "    l_full = list(l_priv_corr)\n",
    "    l_full.append(lones + lzeros)\n",
    "    l_full.append(lzeros + lones)\n",
    "\n",
    "    right_col = [0 for i in range(len(l_priv_corr))] + [1,1]\n",
    "    print 'constraint matrix dimensions  = ',m1.nrows(), m1.ncols()\n",
    "    gen_stats(l_full, l_priv_corr, m1, m2)\n",
    "    \n",
    "# test the entire LP\n"
   ]
  },
  {
   "cell_type": "code",
   "execution_count": 17,
   "metadata": {
    "collapsed": false
   },
   "outputs": [
   ],
   "source": [
    "\n",
    "def tensor_2_flat(coord_size,dim,val):\n",
    "    # val has dim elements\n",
    "    tot = 0\n",
    "    factor = 1\n",
    "    for i in range(dim):\n",
    "        tot = tot + val[i]*factor\n",
    "        factor = factor * coord_size\n",
    "    return tot       \n",
    "\n",
    "# it's better to replace (ind,val) by a dictionary\n",
    "# ind is assumed to be sorted\n",
    "def tensor_2_vec(outof, ind, val, coord_size):\n",
    "    rest_size = outof - len(ind)\n",
    "    rest_ind = list(set(range(outof)).difference(ind))\n",
    "    tensor_ind = [0 for i in range(outof)]\n",
    "    for k in range(len(ind)):\n",
    "        tensor_ind[ind[k]] = val[k]\n",
    "    tensor_vals = [0 for i in range(pow(coord_size,outof))]\n",
    "    for rest_vals in itertools.product(range(coord_size), repeat = outof - len(ind)):\n",
    "        for k in range(rest_size):\n",
    "            tensor_ind[rest_ind[k]] = rest_vals[k]\n",
    "            cur = tensor_2_flat(coord_size, outof, tensor_ind)\n",
    "            tensor_vals[cur] = 1\n",
    "    return tensor_vals"
   ]
  },
  {
   "cell_type": "code",
   "execution_count": 18,
   "metadata": {
    "collapsed": true
   },
   "outputs": [
    {
     "name": "stdout",
     "output_type": "stream",
     "text": [
      "all-slice =  set([(1, 2, 5), (1, 2, 3), (0, 3, 4), (0, 2, 5), (3, 4, 5), (2, 3, 5), (0, 1, 2), (0, 3, 5), (1, 4, 5), (0, 1, 5), (1, 3, 5), (0, 2, 3), (2, 4, 5), (0, 1, 4), (1, 3, 4), (0, 4, 5), (2, 3, 4), (0, 1, 3), (1, 2, 4), (0, 2, 4)])\n",
      "slice-maxterms =  set([(2, 3, 5), (0, 1, 3), (0, 4, 5), (2, 4, 5), (0, 1, 2), (0, 3, 5), (1, 2, 3), (0, 2, 5), (1, 3, 4), (2, 3, 4), (1, 4, 5), (1, 2, 4), (1, 2, 5)])\n",
      "minterms =  [(0, 1, 4), (0, 1, 5), (0, 2, 3), (0, 2, 4), (0, 3, 4), (1, 3, 5), (3, 4, 5)] \n",
      "\n",
      "maxterms =  [(2, 3, 5), (1, 3), (0, 4, 5), (0, 1, 2), (0, 1, 3), (0, 3), (1, 5), (2, 4, 5), (0, 4), (0, 2, 5), (4, 5), (1, 4), (1, 2, 3), (0, 5), (1, 2, 4), (1, 4, 5), (1, 2, 5), (3, 5), (0, 1), (0, 3, 5), (0, 2), (1, 3, 4), (2, 3), (2, 3, 4), (3, 4), (2, 4)] \n",
      "\n"
     ]
    }
   ],
   "source": [
    "# define access structure. The structure is a slice structure of the form (n/2,n)\n",
    "# test a minimalistic condition\n",
    "n = 6\n",
    "slice_at = 3\n",
    "share_dom_size = 3\n",
    "# the AS is specified by minterms\n",
    "AS = [i for i in itertools.combinations(range(n),slice_at) if random.randrange(2)==1]\n",
    "# maxterms\n",
    "all_slice_at = set([i for i in itertools.combinations(range(n),slice_at)])\n",
    "\n",
    "print 'all-slice = ',all_slice_at\n",
    "\n",
    "maxterms = all_slice_at - set(AS)\n",
    "print 'slice-maxterms = ',maxterms\n",
    "for i in AS:\n",
    "    for j in range(slice_at):\n",
    "        to_add = i[:j]+i[j+1:]\n",
    "        maxterms.add(to_add)\n",
    "        \n",
    "maxterms = list(maxterms)\n",
    "print 'minterms = ',AS,'\\n'\n",
    "print 'maxterms = ',maxterms,'\\n'\n",
    "\n",
    "# auxiliary variables for everyone\n",
    "lones = [1 for i in range(pow(share_dom_size,n))]\n",
    "lzeros = [0 for i in range(pow(share_dom_size,n))]\n",
    "ones = vector(QQ, lones)\n",
    "zeros = vector(QQ, lzeros)\n",
    "dbl_ones = vector(QQ, lones + lzeros)"
   ]
  },
  {
   "cell_type": "code",
   "execution_count": 12,
   "metadata": {
    "collapsed": false
   },
   "outputs": [
   ],
   "source": [
    "#for i in range(20):\n",
    "#    sample_cur_AS()"
   ]
  },
  {
   "cell_type": "code",
   "execution_count": 13,
   "metadata": {
    "collapsed": false
   },
   "outputs": [
    {
     "name": "stdout",
     "output_type": "stream",
     "text": [
      "2 2\n"
     ]
    }
   ],
   "source": [
    "h = matrix(QQ,[[1,2],[5,3]])\n",
    "print h.nrows() , h.ncols()"
   ]
  },
  {
   "cell_type": "code",
   "execution_count": 19,
   "metadata": {
    "collapsed": false
   },
   "outputs": [
    {
     "name": "stdout",
     "output_type": "stream",
     "text": [
      "constraint matrix dimensions  =  97 729\n",
      "S1: There is no solution, so a scheme might exist\n"
     ]
    },
    {
     "name": "stdout",
     "output_type": "stream",
     "text": [
      "S2 =  (0, 0, 0, 0, 0, 0, 0, 0, 0, 0, 0, 0, 0, 0, 0, 0, 0, 0, 0, 0, 0, 0, 0, 0, 0, 0, 0, 0, 0, 0, 0, 1, 0, 1, 1, 0, 0, 1, 1, 1, 0, 0, 0, 0, 0, 0, 0, 0, 0, 0, 1, -1, -1, 0, 0, 1, 0, 0, 0, 0, 0, 0, 0, 0, -1, 1, 1, 0, 0, -1, 0, -1, 0, 1, 0, 0, 0, -1, 0, 0, 1, 0, 0, -1, 0, 0, 1, 1, 0, 1, 0, 0, 0, 1, 1, 1, 1, 0, 0, 0, 0, 0, 0, 0, 0, 0, 0, 0, 0, 0, 0, 0, 0, 0, 0, 0, 0, 0, 0, 0, 0, 0, 0, 0, 0, 1, 0, 1, 0, 1, 0, 0, 0, 0, 0, 0, 0, 0, 0, 0, 0, 0, 0, 0, 0, 0, 0, 0, 0, 1, 0, 0, 0, 0, 0, 0, 1, 0, 0, 0, 1, 0, 0, 0, 0, 0, 0, 0, 0, 0, 0, 0, 0, 0, 0, 1, 1, 1, 1, 1, 1, 0, 0, 1, 0, 1, 1, 0, 0, 0, 1, 1, 0, 0, 0, 0, 0, 0, 0, 1, 1, 0, 0, 0, 0, 0, 0, 0, 1, 1, 0, 0, 0, 0, 0, 0, 0, 0, 0, 0, 0, 0, 0, 0, 0, 1, 0, 0, 1, 0, 0, 0, 0, 0, 1, 0, 0, 1, 0, 0, 0, 0, 0, 1, 0, 0, 1, 0, 0, 0, 0, 0, 0, 0, 0, 0, 0, 0, 0, 0, 0, 0, 0, 0, 0, 0, 0, 0, 0, 0, 0, 0, 0, 0, 0, 0, 0, 0, 0, 0, 1, 0, 0, 1, 0, 0, 1, 0, 0, 0, 0, 0, 0, 0, 0, 0, 0, 0, 0, 0, 0, 0, 0, 0, 0, 0, 0, 0, 0, 0, 0, 0, 0, 0, 0, 0, 0, 0, 0, 0, 0, 0, 0, 0, 0, 0, 0, 0, 0, 0, 0, 0, 0, 0, 0, 0, 0, 0, 0, 0, 0, 0, 0, 0, 0, 0, 0, 0, 0, 0, 0, 0, 0, 0, 0, 0, 0, 0, 0, 0, 0, 0, 0, 0, 0, 0, 0, 0, 0, 0, 0, 0, 0, 0, 0, 0, 0, 0, 0, 0, 0, 0, 0, 0, 0, 0, 0, 0, 0, 0, 0, 0, 0, 0, 0, 0, 0, 0, 0, 0, 0, 0, 0, 0, 0, 0, 0, 0, 0, 0, 0, 0, 0, 0, 0, 0, 0, 0, 0, 0, 0, 0, 0, 0, 0, 0, 0, 0, 0, 0, 0, 0, 0, 0, 0, 0, 0, 0, 0, 0, 0, 0, 0, 0, 0, 0, 0, 0, 0, 0, 0, 0, 0, 0, 0, 0, 0, 0, 0, 0, 0, 0, 0, 0, 0, 0, 0, 0, 0, 0, 0, 0, 0, 0, 0, 0, 0, 0, 0, 0, 0, 0, 0, 0, 0, 0, 0, 0, 0, 0, 0, 0, 0, 0, 0, 0, 0, 0, 0, 0, 0, 0, 0, 0, 0, 0, 0, 0, 0, 0, 0, 0, 0, 0, 0, 0, 0, 0, 0, 0, 0, 0, 0, 0, 0, 0, 0, 0, 0, 0, 0, 0, 0, 0, 0, 0, 0, 0, 0, 0, 0, 0, 0, 0, 0, 0, 0, 0, 0, 0, 0, 0, 0, 0, 0, 0, 0, 0, 0, 0, 0, 0, 0, 0, 0, 0, 0, 0, 0, 0, 0, 0, 0, 0, 0, 0, 0, 0, 0, 0, 0, 0, 0, 0, 0, 0, 0, 0, 0, 0, 0, 0, 0, 0, 0, 0, 0, 0, 0, 0, 0, 0, 0, 0, 0, 0, 0, 0, 0, 0, 0, 0, 0, 0, 0, 0, 0, 0, 0, 0, 0, 0, 0, 0, 0, 0, 0, 0, 0, 0, 0, 0, 0, 0, 0, 0, 0, 0, 0, 0, 0, 0, 0, 0, 0, 0, 0, 0, 0, 0, 0, 0, 0, 0, 0, 0, 0)  exists!\n"
     ]
    },
    {
     "name": "stdout",
     "output_type": "stream",
     "text": [
      "\n",
      "There is no scheme, eventually!\n",
      "\n"
     ]
    },
    {
     "data": {
      "text/plain": [
       "Timer unit: 1e-06 s\n",
       "\n",
       "Total time: 103.324 s\n",
       "File: <ipython-input-15-4211c5d8d6ab>\n",
       "Function: gen_LP at line 1\n",
       "\n",
       "Line #      Hits         Time  Per Hit   % Time  Line Contents\n",
       "==============================================================\n",
       "     1                                           def gen_LP(l_full, l_priv_corr):\n",
       "     2                                               \n",
       "     3         1        202.0    202.0      0.0      p = MixedIntegerLinearProgram()\n",
       "     4         1         15.0     15.0      0.0      v = p.new_variable(real = True, nonnegative=True)\n",
       "     5         1          3.0      3.0      0.0      tot_cell_num = pow(share_dom_size, n)\n",
       "     6         1          2.0      2.0      0.0      special_cases = len(l_priv_corr)\n",
       "     7                                           \n",
       "     8       660       3881.0      5.9      0.0      for (i,eq) in enumerate(l_full):\n",
       "     9       659     222845.0    338.2      0.2          lp_constraint = []\n",
       "    10      1977       7745.0      3.9      0.0          for b in range(2): \n",
       "    11    962140     675374.0      0.7      0.7              for x in range(tot_cell_num):\n",
       "    12    960822     712237.0      0.7      0.7                  ind = x + (b - 1)*tot_cell_num\n",
       "    13    960822    4349359.0      4.5      4.2                  lp_constraint.append(eq[ind] * v[ind])\n",
       "    14       659        455.0      0.7      0.0          at_right = 0\n",
       "    15       659       1117.0      1.7      0.0          if (i >=  special_cases):\n",
       "    16         2          0.0      0.0      0.0              at_right = 1\n",
       "    17       659   94261408.0 143037.0     91.2          lp_function = sum(lp_constraint)\n",
       "    18       659    1997200.0   3030.7      1.9          p.add_constraint(lp_function == at_right)\n",
       "    19                                               #we don't optimize anything here, just arbitrary    \n",
       "    20                                               #p.set_objective(v[0])  \n",
       "    21                                           \n",
       "    22         1          1.0      1.0      0.0      no_solution = False\n",
       "    23         1          1.0      1.0      0.0      try:\n",
       "    24         1    1092048.0 1092048.0      1.1          p.solve()\n",
       "    25         1          4.0      4.0      0.0      except:\n",
       "    26         1        313.0    313.0      0.0          print '\\nThere is no scheme, eventually!\\n'\n",
       "    27         1          3.0      3.0      0.0          no_solution = True\n",
       "    28                                           \n",
       "    29         1          2.0      2.0      0.0      if no_solution == False:    \n",
       "    30                                                   solution = p.get_values()\n",
       "    31                                                   solution_list = [solution[i] for i in range(2*tot_cell_num)]\n",
       "    32                                                   print '\\n There is a scheme!!!!!!!!!!!! \\nThe solution is '\n",
       "    33                                                   print solution_list"
      ]
     },
     "execution_count": 19,
     "metadata": {
     },
     "output_type": "execute_result",
     "start": 0
    }
   ],
   "source": [
    "%lprun -f gen_LP sample_cur_AS()"
   ]
  },
  {
   "cell_type": "code",
   "execution_count": 0,
   "metadata": {
    "collapsed": false
   },
   "outputs": [
   ],
   "source": [
   ]
  },
  {
   "cell_type": "code",
   "execution_count": 0,
   "metadata": {
    "collapsed": false
   },
   "outputs": [
   ],
   "source": [
    "MixedIntegerLinearProgram.add_constraint?"
   ]
  },
  {
   "cell_type": "code",
   "execution_count": 0,
   "metadata": {
    "collapsed": false
   },
   "outputs": [
   ],
   "source": [
   ]
  }
 ],
 "metadata": {
  "kernelspec": {
   "display_name": "Python 2 (SageMath)",
   "language": "python",
   "name": "python2"
  },
  "language_info": {
   "codemirror_mode": {
    "name": "ipython",
    "version": 2
   },
   "file_extension": ".py",
   "mimetype": "text/x-python",
   "name": "python",
   "nbconvert_exporter": "python",
   "pygments_lexer": "ipython2",
   "version": "2.7.14"
  }
 },
 "nbformat": 4,
 "nbformat_minor": 0
}