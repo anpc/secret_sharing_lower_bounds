{
 "cells": [
  {
   "cell_type": "markdown",
   "metadata": {
    "collapsed": false
   },
   "source": [
    "### Profiling: http://mortada.net/easily-profile-python-code-in-jupyter.html\n",
    "Use `%lprun -f slow_func slow_call(2, 3)` to run the profiler"
   ]
  },
  {
   "cell_type": "code",
   "execution_count": 1,
   "metadata": {
    "collapsed": false
   },
   "outputs": [
    {
     "name": "stdout",
     "output_type": "stream",
     "text": [
      "Requirement already satisfied: line-profiler in /usr/local/lib/python2.7/dist-packages\n",
      "Requirement already satisfied: IPython>=0.13 in /usr/local/lib/python2.7/dist-packages (from line-profiler)\n",
      "Requirement already satisfied: prompt-toolkit<2.0.0,>=1.0.4 in /usr/local/lib/python2.7/dist-packages (from IPython>=0.13->line-profiler)\n",
      "Requirement already satisfied: decorator in /usr/local/lib/python2.7/dist-packages (from IPython>=0.13->line-profiler)\n",
      "Requirement already satisfied: pexpect; sys_platform != \"win32\" in /usr/local/lib/python2.7/dist-packages (from IPython>=0.13->line-profiler)\n",
      "Requirement already satisfied: backports.shutil-get-terminal-size; python_version == \"2.7\" in /usr/local/lib/python2.7/dist-packages (from IPython>=0.13->line-profiler)\n",
      "Requirement already satisfied: setuptools>=18.5 in /usr/local/lib/python2.7/dist-packages (from IPython>=0.13->line-profiler)\n",
      "Requirement already satisfied: pygments in /usr/local/lib/python2.7/dist-packages (from IPython>=0.13->line-profiler)\n",
      "Requirement already satisfied: pathlib2; python_version == \"2.7\" or python_version == \"3.3\" in /usr/local/lib/python2.7/dist-packages (from IPython>=0.13->line-profiler)\n",
      "Requirement already satisfied: traitlets>=4.2 in /usr/local/lib/python2.7/dist-packages (from IPython>=0.13->line-profiler)\n",
      "Requirement already satisfied: simplegeneric>0.8 in /usr/lib/python2.7/dist-packages (from IPython>=0.13->line-profiler)\n",
      "Requirement already satisfied: pickleshare in /usr/local/lib/python2.7/dist-packages (from IPython>=0.13->line-profiler)\n",
      "Requirement already satisfied: wcwidth in /usr/local/lib/python2.7/dist-packages (from prompt-toolkit<2.0.0,>=1.0.4->IPython>=0.13->line-profiler)\n",
      "Requirement already satisfied: six>=1.9.0 in /usr/local/lib/python2.7/dist-packages (from prompt-toolkit<2.0.0,>=1.0.4->IPython>=0.13->line-profiler)\n",
      "Requirement already satisfied: ptyprocess>=0.5 in /usr/local/lib/python2.7/dist-packages (from pexpect; sys_platform != \"win32\"->IPython>=0.13->line-profiler)\n",
      "Requirement already satisfied: scandir; python_version < \"3.5\" in /usr/local/lib/python2.7/dist-packages (from pathlib2; python_version == \"2.7\" or python_version == \"3.3\"->IPython>=0.13->line-profiler)\n",
      "Requirement already satisfied: ipython-genutils in /usr/local/lib/python2.7/dist-packages (from traitlets>=4.2->IPython>=0.13->line-profiler)\n",
      "Requirement already satisfied: enum34; python_version == \"2.7\" in /usr/local/lib/python2.7/dist-packages (from traitlets>=4.2->IPython>=0.13->line-profiler)\n"
     ]
    },
    {
     "name": "stderr",
     "output_type": "stream",
     "text": [
      "You are using pip version 9.0.1, however version 18.0 is available.\n",
      "You should consider upgrading via the 'pip install --upgrade pip' command.\n"
     ]
    }
   ],
   "source": [
    "%%bash\n",
    "/usr/bin/pip install line-profiler"
   ]
  },
  {
   "cell_type": "code",
   "execution_count": 2,
   "metadata": {
    "collapsed": false
   },
   "outputs": [
   ],
   "source": [
    "%load_ext line_profiler"
   ]
  },
  {
   "cell_type": "markdown",
   "metadata": {
    "collapsed": false
   },
   "source": [
    "## The code"
   ]
  },
  {
   "cell_type": "code",
   "execution_count": 3,
   "metadata": {
    "collapsed": false
   },
   "outputs": [
   ],
   "source": [
    "from sage.all import *\n",
    "import itertools\n",
    "import random"
   ]
  },
  {
   "cell_type": "code",
   "execution_count": 4,
   "metadata": {
    "collapsed": false
   },
   "outputs": [
   ],
   "source": [
    "def gen_LP(l_full, l_full_right_col):\n",
    "    p = MixedIntegerLinearProgram()\n",
    "    v = p.new_variable(real = True, nonnegative=True)\n",
    "    tot_cell_num = pow(share_dom_size, n)\n",
    "    \n",
    "    m = matrix(QQ, l_full)\n",
    "    b = vector(QQ, l_full_right_col)\n",
    "    constraints = (m*v == b)\n",
    "    #print constraints\n",
    "    p.add_constraint(constraints)\n",
    "    \n",
    "    #we don't optimize anything here, just arbitrary    \n",
    "    #p.set_objective(v[0])  \n",
    "\n",
    "    print 'testing everything'\n",
    "    \n",
    "    try:\n",
    "        p.solve()\n",
    "    except:\n",
    "        print '\\nThere is no scheme, eventually!\\n'\n",
    "    else:\n",
    "        solution = p.get_values(v)\n",
    "        solution_list = [solution[i] for i in range(2*tot_cell_num)]\n",
    "        print '\\n There is a scheme!!!!!!!!!!!! \\nThe solution is '\n",
    "        #print solution_list\n",
    "\n",
    "def gen_stats(m1, m2, l_full, l_full_right_col):\n",
    "    s1 = []\n",
    "    try:\n",
    "        s1 = m1.solve_left(ones)\n",
    "    except: \n",
    "        print 'S1: There is no solution, so a scheme might exist'\n",
    "    if (len(s1) > 0):        \n",
    "        print 's1 = ',s1,' exists!'\n",
    "        # return\n",
    "\n",
    "    # test everything except for non-negativity      \n",
    "    s2 = []\n",
    "    try:\n",
    "        s2 = m2.solve_left(dbl_ones)\n",
    "    except: \n",
    "        print 'S2: There is no solution for the more complex system either! Perhaps there is a scheme..'\n",
    "    if (len(s2) > 0):        \n",
    "        print 'S2 = ',s2,' exists!'\n",
    "        return\n",
    "\n",
    "    # test everything\n",
    "    gen_LP(l_full, l_full_right_col)\n",
    "            "
   ]
  },
  {
   "cell_type": "code",
   "execution_count": 5,
   "metadata": {
    "collapsed": false
   },
   "outputs": [
   ],
   "source": [
    "def sample_cur_AS():\n",
    "    lists = [[],[]]\n",
    "    \n",
    "    for min_term in AS:\n",
    "        for val in itertools.product(range(share_dom_size),repeat = slice_at):\n",
    "            b = random.randrange(2)\n",
    "            lists[b].append(tensor_2_vec(n, min_term, val, share_dom_size))\n",
    "\n",
    "    l = max(lists, key=lambda x: len(x))\n",
    "\n",
    "    # test just for the partial cover condition (hope none is satisfied, ane we get a cover)\n",
    "    m1 =  matrix(QQ, l)   \n",
    "\n",
    "    print 'rank(m1),nrows(m1),ncols(m1)= ',m1.rank(),m1.nrows(),m1.ncols()\n",
    "    # correctness-related constrains (all but positivity)\n",
    "    l_priv_corr = []\n",
    "    for i in lists[0]:\n",
    "        l_priv_corr.append(i + lzeros)\n",
    "    for i in lists[1]:\n",
    "        l_priv_corr.append(lzeros + i)   \n",
    "\n",
    "    #privacy-related constrains (all but positivity)     \n",
    "\n",
    "    for max_term in maxterms:\n",
    "        for val in itertools.product(range(share_dom_size),repeat = len(max_term)):\n",
    "            cur = tensor_2_vec(n, max_term, val, share_dom_size)\n",
    "            minus_cur = [-i for i in cur]\n",
    "            l_priv_corr.append(cur + minus_cur)\n",
    "        \n",
    "    m2 = matrix(QQ, l_priv_corr)    \n",
    "    print 'rank(m2),nrows(m2),ncols(m2)= ',m2.rank(),m2.nrows(),m2.ncols()    \n",
    "\n",
    "    # test for everything but non-negativity\n",
    "\n",
    "    l_full = list(l_priv_corr)\n",
    "    l_full.append(lones + lzeros)\n",
    "    l_full.append(lzeros + lones)\n",
    "    right_col = [0] * len(l_priv_corr) + [1,1]\n",
    "     \n",
    "    gen_stats(m1, m2, l_full, right_col)"
   ]
  },
  {
   "cell_type": "code",
   "execution_count": 6,
   "metadata": {
    "collapsed": false
   },
   "outputs": [
   ],
   "source": [
    "\n",
    "def tensor_2_flat(coord_size,dim,val):\n",
    "    # val has dim elements\n",
    "    tot = 0\n",
    "    factor = 1\n",
    "    for i in range(dim):\n",
    "        tot = tot + val[i]*factor\n",
    "        factor = factor * coord_size\n",
    "    return tot       \n",
    "\n",
    "# it's better to replace (ind,val) by a dictionary\n",
    "# ind is assumed to be sorted\n",
    "def tensor_2_vec(outof, ind, val, coord_size):\n",
    "    rest_size = outof - len(ind)\n",
    "    rest_ind = list(set(range(outof)).difference(ind))\n",
    "    tensor_ind = [0 for i in range(outof)]\n",
    "    for k in range(len(ind)):\n",
    "        tensor_ind[ind[k]] = val[k]\n",
    "    tensor_vals = [0 for i in range(pow(coord_size,outof))]\n",
    "    for rest_vals in itertools.product(range(coord_size), repeat = outof - len(ind)):\n",
    "        for k in range(rest_size):\n",
    "            tensor_ind[rest_ind[k]] = rest_vals[k]\n",
    "            cur = tensor_2_flat(coord_size, outof, tensor_ind)\n",
    "            tensor_vals[cur] = 1\n",
    "    return tensor_vals"
   ]
  },
  {
   "cell_type": "code",
   "execution_count": 7,
   "metadata": {
    "collapsed": false
   },
   "outputs": [
    {
     "name": "stdout",
     "output_type": "stream",
     "text": [
      "all-slice =  set([(1, 2, 5), (1, 2, 3), (0, 3, 4), (0, 2, 5), (3, 4, 5), (2, 3, 5), (0, 1, 2), (0, 3, 5), (1, 4, 5), (0, 1, 5), (1, 3, 5), (0, 2, 3), (2, 4, 5), (0, 1, 4), (1, 3, 4), (0, 4, 5), (2, 3, 4), (0, 1, 3), (1, 2, 4), (0, 2, 4)])\n",
      "slice-maxterms =  set([(0, 3, 4), (2, 4, 5), (0, 1, 2), (1, 4, 5), (1, 3, 5), (0, 2, 3), (0, 2, 5), (1, 3, 4), (3, 4, 5), (0, 1, 3), (0, 1, 4)])\n",
      "minterms =  [(0, 1, 5), (0, 2, 4), (0, 3, 5), (0, 4, 5), (1, 2, 3), (1, 2, 4), (1, 2, 5), (2, 3, 4), (2, 3, 5)] \n",
      "\n",
      "maxterms =  [(1, 3), (0, 1, 2), (1, 4, 5), (0, 1, 4), (0, 3), (2, 5), (1, 2), (0, 2, 3), (1, 5), (2, 4, 5), (0, 4), (0, 2, 5), (4, 5), (1, 4), (2, 3), (3, 4, 5), (0, 1, 3), (3, 5), (0, 1), (0, 3, 4), (2, 4), (1, 3, 5), (1, 3, 4), (0, 5), (3, 4), (0, 2)] \n",
      "\n"
     ]
    },
    {
     "name": "stdout",
     "output_type": "stream",
     "text": [
      "rank(m1),nrows(m1),ncols(m1)=  288 291 4096\n"
     ]
    },
    {
     "name": "stdout",
     "output_type": "stream",
     "text": [
      "rank(m2),nrows(m2),ncols(m2)=  1021 1520 8192\n"
     ]
    },
    {
     "name": "stdout",
     "output_type": "stream",
     "text": [
      "S1: There is no solution, so a scheme might exist\n"
     ]
    },
    {
     "name": "stdout",
     "output_type": "stream",
     "text": [
      "S2: There is no solution for the more complex system either! Perhaps there is a scheme..\n"
     ]
    },
    {
     "name": "stdout",
     "output_type": "stream",
     "text": [
      "testing everything\n",
      "\n",
      "There is no scheme, eventually!\n",
      "\n"
     ]
    }
   ],
   "source": [
    "# define access structure. The structure is a slice structure of the form (n/2,n)\n",
    "# test a minimalistic condition\n",
    "n = 6\n",
    "slice_at = 3\n",
    "share_dom_size = 4\n",
    "# the AS is specified by minterms\n",
    "AS = [i for i in itertools.combinations(range(n),slice_at) if random.randrange(2)==1]\n",
    "# maxterms\n",
    "all_slice_at = set([i for i in itertools.combinations(range(n),slice_at)])\n",
    "\n",
    "print 'all-slice = ',all_slice_at\n",
    "\n",
    "maxterms = all_slice_at - set(AS)\n",
    "print 'slice-maxterms = ',maxterms\n",
    "for i in AS:\n",
    "    for j in range(slice_at):\n",
    "        to_add = i[:j]+i[j+1:]\n",
    "        maxterms.add(to_add)\n",
    "        \n",
    "maxterms = list(maxterms)\n",
    "print 'minterms = ',AS,'\\n'\n",
    "print 'maxterms = ',maxterms,'\\n'\n",
    "\n",
    "# auxiliary variables for everyone\n",
    "lones = [1 for i in range(pow(share_dom_size,n))]\n",
    "lzeros = [0 for i in range(pow(share_dom_size,n))]\n",
    "ones = vector(QQ, lones)\n",
    "zeros = vector(QQ, lzeros)\n",
    "dbl_ones = vector(QQ, lones + lzeros)\n",
    "\n",
    "for i in range(1):\n",
    "    sample_cur_AS()"
   ]
  },
  {
   "cell_type": "code",
   "execution_count": 0,
   "metadata": {
    "collapsed": false
   },
   "outputs": [
   ],
   "source": [
   ]
  },
  {
   "cell_type": "code",
   "execution_count": 8,
   "metadata": {
    "collapsed": false
   },
   "outputs": [
   ],
   "source": [
    "#%lprun -f gen_LP  sample_cur_AS()\n",
    "#sample_cur_AS()"
   ]
  },
  {
   "cell_type": "code",
   "execution_count": 0,
   "metadata": {
    "collapsed": false
   },
   "outputs": [
   ],
   "source": [
   ]
  },
  {
   "cell_type": "code",
   "execution_count": 9,
   "metadata": {
    "collapsed": false
   },
   "outputs": [
    {
     "name": "stdout",
     "output_type": "stream",
     "text": [
      "2 2\n"
     ]
    }
   ],
   "source": [
    "h = matrix(QQ,[[1,2],[5,3]])\n",
    "print h.nrows() , h.ncols()"
   ]
  },
  {
   "cell_type": "code",
   "execution_count": 0,
   "metadata": {
    "collapsed": false
   },
   "outputs": [
   ],
   "source": [
   ]
  },
  {
   "cell_type": "code",
   "execution_count": 0,
   "metadata": {
    "collapsed": false
   },
   "outputs": [
   ],
   "source": [
    "MixedIntegerLinearProgram.add_constraint?"
   ]
  },
  {
   "cell_type": "code",
   "execution_count": 10,
   "metadata": {
    "collapsed": false,
    "scrolled": true
   },
   "outputs": [
    {
     "name": "stdout",
     "output_type": "stream",
     "text": [
      "[  1 1/5]\n",
      "[3/2   3]\n"
     ]
    },
    {
     "data": {
      "text/plain": [
       "{0: 0.0, 1: 0.0}"
      ]
     },
     "execution_count": 10,
     "metadata": {
     },
     "output_type": "execute_result"
    }
   ],
   "source": [
    "m = matrix(QQ,[[1.0, 0.2], [1.5, 3.0]])\n",
    "print m\n",
    "p = MixedIntegerLinearProgram()  #solver='GLPK')\n",
    "v = p.new_variable(nonnegative=True)\n",
    "constraints = (m * v <= vector(QQ,[4, 5]))\n",
    "p.add_constraint(constraints)\n",
    "p.solve()\n",
    "p.get_values(v)"
   ]
  },
  {
   "cell_type": "code",
   "execution_count": 0,
   "metadata": {
    "collapsed": false
   },
   "outputs": [
   ],
   "source": [
   ]
  }
 ],
 "metadata": {
  "kernelspec": {
   "display_name": "Python 2 (SageMath)",
   "language": "python",
   "name": "python2"
  },
  "language_info": {
   "codemirror_mode": {
    "name": "ipython",
    "version": 2
   },
   "file_extension": ".py",
   "mimetype": "text/x-python",
   "name": "python",
   "nbconvert_exporter": "python",
   "pygments_lexer": "ipython2",
   "version": "2.7.14"
  }
 },
 "nbformat": 4,
 "nbformat_minor": 0
}